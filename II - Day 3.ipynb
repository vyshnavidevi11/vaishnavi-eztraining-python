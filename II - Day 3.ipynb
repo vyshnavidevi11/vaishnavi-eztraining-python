{
 "cells": [
  {
   "cell_type": "code",
   "execution_count": 1,
   "id": "5bd3046e",
   "metadata": {},
   "outputs": [],
   "source": [
    "#while creating a linked list we gonna do it in a ascending order and delete the node"
   ]
  },
  {
   "cell_type": "code",
   "execution_count": 28,
   "id": "0d99b179",
   "metadata": {},
   "outputs": [
    {
     "name": "stdout",
     "output_type": "stream",
     "text": [
      " \n",
      "start:  8 -> 10 -> 10 -> 11 -> 12 -> end.\n",
      "start:  8 -> 11 -> end.\n"
     ]
    }
   ],
   "source": [
    "class Node:\n",
    "    def __init__(self,data):\n",
    "        self.data = data\n",
    "        self.next = None\n",
    "class LinkedList:\n",
    "    def __init__(self):\n",
    "        self.head = None\n",
    "    def printList(self):\n",
    "        temp = self.head \n",
    "        if not temp:\n",
    "            print(\"List is empty\")\n",
    "            return\n",
    "        else:\n",
    "            print(\"start: \",end=\" \")\n",
    "        while temp:\n",
    "            print(temp.data, end = ' -> ')\n",
    "            temp = temp.next\n",
    "        print(\"end.\")\n",
    "    def insert(self,data):\n",
    "        new_node = Node(data)\n",
    "        #if linked list is empty\n",
    "        if self.head is None:\n",
    "            self.head = new_node\n",
    "            \n",
    "        #if the data is smaller than the head \n",
    "        elif self.head.data >= new_node.data:\n",
    "            new_node.next = self.head\n",
    "            self.head = new_node \n",
    "        else:\n",
    "            #locate the node before the insertion \n",
    "            current = self.head \n",
    "            while current.next and new_node.data > current.next.data:\n",
    "                current = current.next\n",
    "                \n",
    "            #insertion \n",
    "            new_node.next = current.next \n",
    "            current.next = new_node\n",
    "    def delete (self,key):\n",
    "            #if the list is empty\n",
    "            if self.head is None:\n",
    "                print(\"Deletion Error: the list is empty\")\n",
    "                return\n",
    "            #if key is in head\n",
    "            if self.head.data == key:\n",
    "                self.head = self.head.next\n",
    "                return\n",
    "            #find the position of the first occurance pf the \n",
    "            current = self.head \n",
    "            while current:\n",
    "                if current.data == key:\n",
    "                    break\n",
    "                previous = current \n",
    "                current = current.next\n",
    "            if current is None:\n",
    "                print(\"Deletion error: key is not found\")\n",
    "            else:\n",
    "                previous.next = current.next\n",
    "if __name__ == \"__main__\":\n",
    "    #creating an object \n",
    "    ll = LinkedList()\n",
    "    print(\" \")\n",
    "    #insert some nodes \n",
    "    ll.insert(10)\n",
    "    ll.insert(12)\n",
    "    ll.insert(8)\n",
    "    ll.insert(11)\n",
    "    ll.insert(10)\n",
    "    \n",
    "    ll.printList()\n",
    "    ll.delete(10)\n",
    "    ll.delete(10)\n",
    "    ll.delete(12)\n",
    "    ll.printList()\n",
    "    "
   ]
  },
  {
   "cell_type": "code",
   "execution_count": 43,
   "id": "0f61b074",
   "metadata": {},
   "outputs": [],
   "source": [
    "#when u have a lot of functions in a project \n",
    "#\n",
    "#and give all the function calls inside main\n",
    "#then there will be a format"
   ]
  },
  {
   "cell_type": "code",
   "execution_count": 42,
   "id": "478cc814",
   "metadata": {},
   "outputs": [
    {
     "name": "stdout",
     "output_type": "stream",
     "text": [
      "Before function\n",
      "f1\n",
      "f2\n",
      "f3\n",
      "name __main__\n"
     ]
    }
   ],
   "source": [
    "print(\"Before function\")\n",
    "def f1():\n",
    "    print(\"f1\")\n",
    "def f2():\n",
    "    print(\"f2\")\n",
    "def f3():\n",
    "    print(\"f3\")\n",
    "if __name__ == \"__main__\":\n",
    "    f1()\n",
    "    f2()\n",
    "    f3()\n",
    "print(\"name\" , __name__)"
   ]
  },
  {
   "cell_type": "markdown",
   "id": "9d3bfa00",
   "metadata": {},
   "source": [
    "# Double Linked List"
   ]
  },
  {
   "cell_type": "code",
   "execution_count": 3,
   "id": "096f07df",
   "metadata": {},
   "outputs": [
    {
     "name": "stdout",
     "output_type": "stream",
     "text": [
      "100 <--> 800 <--> "
     ]
    }
   ],
   "source": [
    "class Node:\n",
    "    def __init__(self,data):\n",
    "        self.data = data\n",
    "        self.previous = None\n",
    "        self.next = None\n",
    "class dll:\n",
    "    def __init__(self):\n",
    "        self.head = None\n",
    "    def display(self):\n",
    "        if self.head == None:\n",
    "            print(\"Empty\")\n",
    "        else:\n",
    "            temp = self.head\n",
    "            while temp:\n",
    "                print(temp.data,\"<-->\",end = \" \")\n",
    "                temp = temp.next \n",
    "l = dll()\n",
    "n1 = Node(100)\n",
    "l.head = n1\n",
    "n2 = Node(800)\n",
    "n2.pre = n1\n",
    "n1.next = n2\n",
    "l.display()"
   ]
  },
  {
   "cell_type": "markdown",
   "id": "c457e239",
   "metadata": {},
   "source": [
    "# beginning"
   ]
  },
  {
   "cell_type": "code",
   "execution_count": 6,
   "id": "b876aaf3",
   "metadata": {},
   "outputs": [
    {
     "name": "stdout",
     "output_type": "stream",
     "text": [
      "300 <--> 100 <--> 800 <--> "
     ]
    }
   ],
   "source": [
    "class Node:\n",
    "    def __init__(self,data):\n",
    "        self.data = data\n",
    "        self.previous = None\n",
    "        self.next = None\n",
    "class dll:\n",
    "    def __init__(self):\n",
    "        self.head = None\n",
    "    def insert_start(self):\n",
    "        n = Node(300)\n",
    "        temp = self.head\n",
    "        temp.prev = n\n",
    "        n.next = temp\n",
    "        self.head = n \n",
    "    def display(self):\n",
    "        if self.head == None:\n",
    "            print(\"Empty\")\n",
    "        else:\n",
    "            temp = self.head\n",
    "            while temp:\n",
    "                print(temp.data,\"<-->\",end = \" \")\n",
    "                temp = temp.next \n",
    "l = dll()\n",
    "n1 = Node(100)\n",
    "l.head = n1\n",
    "n2 = Node(800)\n",
    "n2.pre = n1\n",
    "n1.next = n2\n",
    "l.insert_start()\n",
    "l.display()"
   ]
  },
  {
   "cell_type": "code",
   "execution_count": 8,
   "id": "97a2b3ef",
   "metadata": {},
   "outputs": [
    {
     "name": "stdout",
     "output_type": "stream",
     "text": [
      "100 <--> 800 <--> 300 <--> "
     ]
    }
   ],
   "source": [
    "class Node:\n",
    "    def __init__(self,data):\n",
    "        self.data = data\n",
    "        self.previous = None\n",
    "        self.next = None\n",
    "class dll:\n",
    "    def __init__(self):\n",
    "        self.head = None\n",
    "    def insert_end(self):\n",
    "        n = Node(300)\n",
    "        temp = self.head\n",
    "        while temp.next is not None:\n",
    "            temp = temp.next \n",
    "        temp.next = n \n",
    "        n.prev = temp \n",
    "    def display(self):\n",
    "        if self.head == None:\n",
    "            print(\"Empty\")\n",
    "        else:\n",
    "            temp = self.head\n",
    "            while temp:\n",
    "                print(temp.data,\"<-->\",end = \" \")\n",
    "                temp = temp.next \n",
    "l = dll()\n",
    "n1 = Node(100)\n",
    "l.head = n1\n",
    "n2 = Node(800)\n",
    "n2.pre = n1\n",
    "n1.next = n2\n",
    "l.insert_end()\n",
    "l.display()"
   ]
  },
  {
   "cell_type": "code",
   "execution_count": 10,
   "id": "884d21ee",
   "metadata": {},
   "outputs": [
    {
     "name": "stdout",
     "output_type": "stream",
     "text": [
      "100 <--> 300 <--> 800 <--> "
     ]
    }
   ],
   "source": [
    "class Node:\n",
    "    def __init__(self,data):\n",
    "        self.data = data\n",
    "        self.previous = None\n",
    "        self.next = None\n",
    "class dll:\n",
    "    def __init__(self):\n",
    "        self.head = None\n",
    "    def insert_pos(self,pos):\n",
    "        n = Node(300)\n",
    "        temp = self.head\n",
    "        for i in range(1,pos-1):\n",
    "            temp = temp.next\n",
    "        n.prev = temp\n",
    "        n.next = temp.next\n",
    "        temp.next.prev = n\n",
    "        temp.next = n \n",
    "    def display(self):\n",
    "        if self.head == None:\n",
    "            print(\"Empty\")\n",
    "        else:\n",
    "            temp = self.head\n",
    "            while temp:\n",
    "                print(temp.data,\"<-->\",end = \" \")\n",
    "                temp = temp.next \n",
    "l = dll()\n",
    "n1 = Node(100)\n",
    "l.head = n1\n",
    "n2 = Node(800)\n",
    "n2.pre = n1\n",
    "n1.next = n2\n",
    "l.insert_pos(2)\n",
    "l.display()"
   ]
  },
  {
   "cell_type": "markdown",
   "id": "0f6a0f09",
   "metadata": {},
   "source": [
    "# Deletion"
   ]
  },
  {
   "cell_type": "code",
   "execution_count": 12,
   "id": "1c98d5f7",
   "metadata": {},
   "outputs": [
    {
     "name": "stdout",
     "output_type": "stream",
     "text": [
      "800 <--> "
     ]
    }
   ],
   "source": [
    "class Node:\n",
    "    def __init__(self,data):\n",
    "        self.data = data\n",
    "        self.previous = None\n",
    "        self.next = None\n",
    "class dll:\n",
    "    def __init__(self):\n",
    "        self.head = None\n",
    "    def delete_start(self):\n",
    "        temp = self.head\n",
    "        self.head = temp.next \n",
    "        temp.next = None \n",
    "    def display(self):\n",
    "        if self.head == None:\n",
    "            print(\"Empty\")\n",
    "        else:\n",
    "            temp = self.head\n",
    "            while temp:\n",
    "                print(temp.data,\"<-->\",end = \" \")\n",
    "                temp = temp.next \n",
    "l = dll()\n",
    "n1 = Node(100)\n",
    "l.head = n1\n",
    "n2 = Node(800)\n",
    "n2.pre = n1\n",
    "n1.next = n2\n",
    "l.delete_start()\n",
    "l.display()"
   ]
  },
  {
   "cell_type": "code",
   "execution_count": 16,
   "id": "5bc9f978",
   "metadata": {},
   "outputs": [
    {
     "name": "stdout",
     "output_type": "stream",
     "text": [
      "100 <--> "
     ]
    }
   ],
   "source": [
    "class Node:\n",
    "    def __init__(self,data):\n",
    "        self.data = data\n",
    "        self.previous = None\n",
    "        self.next = None\n",
    "class dll:\n",
    "    def __init__(self):\n",
    "        self.head = None \n",
    "    def delete_end(self):\n",
    "        temp = self.head.next\n",
    "        prev = self.head\n",
    "        while temp.next is not None:\n",
    "            temp = temp.next \n",
    "            prev = prev.next\n",
    "        prev.next = None\n",
    "    def display(self):\n",
    "        if self.head == None:\n",
    "            print(\"Empty\")\n",
    "        else:\n",
    "            temp = self.head\n",
    "            while temp:\n",
    "                print(temp.data,\"<-->\",end = \" \")\n",
    "                temp = temp.next \n",
    "l = dll()\n",
    "n1 = Node(100)\n",
    "l.head = n1\n",
    "n2 = Node(800)\n",
    "n2.pre = n1\n",
    "n1.next = n2\n",
    "l.delete_end()\n",
    "l.display()"
   ]
  },
  {
   "cell_type": "code",
   "execution_count": 27,
   "id": "50fe2c6c",
   "metadata": {},
   "outputs": [
    {
     "name": "stdout",
     "output_type": "stream",
     "text": [
      "100 <--> 600 <--> "
     ]
    }
   ],
   "source": [
    "class Node:\n",
    "    def __init__(self,data):\n",
    "        self.data = data\n",
    "        self.previous = None\n",
    "        self.next = None\n",
    "class dll:\n",
    "    def __init__(self):\n",
    "        self.head = None\n",
    "    def delete_pos(self,pos):\n",
    "        temp = self.head.next\n",
    "        prev = self.head\n",
    "        for i in range(1,pos-1):\n",
    "            temp = temp.next\n",
    "            prev = prev.next\n",
    "        prev.next = temp.next\n",
    "        temp.next = None\n",
    "    def display(self):\n",
    "        if self.head == None:\n",
    "            print(\"Empty\")\n",
    "        else:\n",
    "            temp = self.head\n",
    "            while temp:\n",
    "                print(temp.data,\"<-->\",end = \" \")\n",
    "                temp = temp.next \n",
    "l = dll()\n",
    "n1 = Node(100)\n",
    "l.head = n1\n",
    "n2 = Node(800)\n",
    "n2.pre = n1\n",
    "n1.next = n2\n",
    "n3 = Node(600)\n",
    "n2.next = n3\n",
    "n3.pre = n2\n",
    "l.delete_pos(2)\n",
    "l.display()"
   ]
  },
  {
   "cell_type": "markdown",
   "id": "f9149f15",
   "metadata": {},
   "source": [
    "# Circular List"
   ]
  },
  {
   "cell_type": "code",
   "execution_count": 35,
   "id": "8cd64365",
   "metadata": {},
   "outputs": [
    {
     "name": "stdout",
     "output_type": "stream",
     "text": [
      "Nodes of the circular linked list: \n",
      "s -->\n",
      "m -->\n",
      "i -->\n",
      "l -->\n",
      "e -->\n"
     ]
    }
   ],
   "source": [
    "class Node:\n",
    "    def __init__(self,data):\n",
    "        self.data = data\n",
    "        self.next = None\n",
    "class CreateList:\n",
    "    def __init__(self):\n",
    "        self.head = Node(None)\n",
    "        self.tail = Node(None)\n",
    "        self.head.next = self.tail\n",
    "        self.tail.next = self.head\n",
    "    def add(self,data):\n",
    "        newNode = Node(data)\n",
    "        #is empty\n",
    "        if self.head.data is None:\n",
    "            self.head = newNode\n",
    "            self.tail = newNode\n",
    "            newNode.next = self.head\n",
    "        else:\n",
    "            self.tail.next = newNode\n",
    "            self.tail = newNode\n",
    "            self.tail.next = self.head\n",
    "    def display(self):\n",
    "        current = self.head\n",
    "        if self.head is None:\n",
    "            print(\"List is empty\")\n",
    "            return\n",
    "        else:\n",
    "            print(\"Nodes of the circular linked list: \")\n",
    "            print(current.data,\"-->\")\n",
    "            while (current.next != self.head):\n",
    "                current = current.next\n",
    "                print(current.data,\"-->\")\n",
    "                \n",
    "class CircularLinkedList:\n",
    "    c1 = CreateList()\n",
    "    c1.add(\"s\")\n",
    "    c1.add(\"m\")\n",
    "    c1.add(\"i\")\n",
    "    c1.add(\"l\")\n",
    "    c1.add(\"e\")\n",
    "    c1.display()\n"
   ]
  },
  {
   "cell_type": "code",
   "execution_count": null,
   "id": "0d4658f8",
   "metadata": {},
   "outputs": [],
   "source": []
  }
 ],
 "metadata": {
  "kernelspec": {
   "display_name": "Python 3 (ipykernel)",
   "language": "python",
   "name": "python3"
  },
  "language_info": {
   "codemirror_mode": {
    "name": "ipython",
    "version": 3
   },
   "file_extension": ".py",
   "mimetype": "text/x-python",
   "name": "python",
   "nbconvert_exporter": "python",
   "pygments_lexer": "ipython3",
   "version": "3.9.7"
  }
 },
 "nbformat": 4,
 "nbformat_minor": 5
}
