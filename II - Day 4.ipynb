{
 "cells": [
  {
   "cell_type": "markdown",
   "id": "c000069b",
   "metadata": {},
   "source": [
    "# Implementation of stack using arrays or lists"
   ]
  },
  {
   "cell_type": "code",
   "execution_count": 1,
   "id": "7b64a767",
   "metadata": {
    "scrolled": true
   },
   "outputs": [
    {
     "name": "stdout",
     "output_type": "stream",
     "text": [
      "Enter your choice: 1.push 2.pop 3.quit\n",
      "1\n",
      "Enter the element100\n",
      "[100]\n",
      "Enter your choice: 1.push 2.pop 3.quit\n",
      "1\n",
      "Enter the element200\n",
      "[100, 200]\n",
      "Enter your choice: 1.push 2.pop 3.quit\n",
      "22\n",
      "Enter the correct option\n",
      "Enter your choice: 1.push 2.pop 3.quit\n",
      "2\n",
      "deleted element 200\n",
      "[100]\n",
      "Enter your choice: 1.push 2.pop 3.quit\n",
      "2\n",
      "deleted element 100\n",
      "[]\n",
      "Enter your choice: 1.push 2.pop 3.quit\n",
      "2\n",
      "Stack is empty\n",
      "Enter your choice: 1.push 2.pop 3.quit\n",
      "3\n"
     ]
    }
   ],
   "source": [
    "stack = []\n",
    "def push():\n",
    "    ele = int(input(\"Enter the element\"))\n",
    "    stack.append(ele)\n",
    "    print(stack)\n",
    "def pop_element():\n",
    "    if not stack:\n",
    "        print(\"Stack is empty\")\n",
    "    else:\n",
    "        e = stack.pop()\n",
    "        print(\"deleted element\",e)\n",
    "        print(stack)\n",
    "while True:\n",
    "    print(\"Enter your choice: 1.push 2.pop 3.quit\")\n",
    "    n = int(input())\n",
    "    if n == 1:\n",
    "        push()\n",
    "    elif n == 2:\n",
    "        pop_element()\n",
    "    elif n == 3:\n",
    "        break \n",
    "    else:\n",
    "        print(\"Enter the correct option\")"
   ]
  },
  {
   "cell_type": "markdown",
   "id": "ee857da1",
   "metadata": {},
   "source": [
    "# Stack using LinkedList"
   ]
  },
  {
   "cell_type": "code",
   "execution_count": 2,
   "id": "5b6429bb",
   "metadata": {},
   "outputs": [
    {
     "name": "stdout",
     "output_type": "stream",
     "text": [
      "5 ->3 ->2 ->1 \n",
      "\n",
      "5\n",
      "2 ->1 "
     ]
    }
   ],
   "source": [
    "class Node:\n",
    "    def __init__(self,data):\n",
    "        self.data = data\n",
    "        self.next = None\n",
    "class Stack:\n",
    "    def __init__(self):\n",
    "        self.head = None\n",
    "    def isempty(self):\n",
    "        if self.head == None:\n",
    "            return True\n",
    "        else:\n",
    "            return False\n",
    "    def push(self,data):\n",
    "        if self.head == None:\n",
    "            self.head = Node(data)\n",
    "        else:\n",
    "            newnode = Node(data)\n",
    "            newnode.next = self.head\n",
    "            self.head = newnode\n",
    "    def pop(self):\n",
    "        if self.isempty():\n",
    "            return None\n",
    "        else:\n",
    "            poppednode = self.head\n",
    "            self.head = self.head.next\n",
    "            poppednode.next = None\n",
    "            return poppednode.data\n",
    "    def peek(self):\n",
    "        if self.isempty():\n",
    "            return None\n",
    "        else:\n",
    "            return self.head.data\n",
    "    def display(self):\n",
    "        t = self.head\n",
    "        if self.isempty():\n",
    "            print(\"Stack Underflow\")\n",
    "        else:\n",
    "            while (t != None):\n",
    "                print(t.data,end = \" \")\n",
    "                t = t.next\n",
    "                if (t != None):\n",
    "                    print(\"->\",end = \"\")\n",
    "            return\n",
    "if __name__ ==\"__main__\":\n",
    "    s = Stack()\n",
    "    s.push(1)\n",
    "    s.push(2)\n",
    "    s.push(3)\n",
    "    s.push(5)\n",
    "    s.display()\n",
    "    print(\"\\n\")\n",
    "    print(s.peek())\n",
    "    s.pop()\n",
    "    s.pop()\n",
    "    s.display()"
   ]
  },
  {
   "cell_type": "code",
   "execution_count": 3,
   "id": "2ce36c60",
   "metadata": {},
   "outputs": [
    {
     "name": "stdout",
     "output_type": "stream",
     "text": [
      "[][]\n",
      "Balanced\n"
     ]
    }
   ],
   "source": [
    "s = input()\n",
    "st = []\n",
    "balanced  = True\n",
    "for i in s:\n",
    "    if (i == \"{\" or i == \"[\" or i == \"(\"):\n",
    "        st.append(i)\n",
    "    elif(i == \"}\"):\n",
    "        if (len(st) and st.pop() != \"{\"):\n",
    "            balanced = False\n",
    "            break\n",
    "    elif(i == \"]\"):\n",
    "        if (len(st) and st.pop() != \"[\"):\n",
    "            balanced = False\n",
    "            break\n",
    "    elif(i == \")\"):\n",
    "        if (len(st) and st.pop() != \"(\"):\n",
    "            balanced = False\n",
    "            break\n",
    "    else:\n",
    "        balanced = False\n",
    "        break\n",
    "if (balanced == False or len(st)):\n",
    "    print(\"Not balanced\")\n",
    "else:\n",
    "    print(\"Balanced\")\n",
    "    "
   ]
  },
  {
   "cell_type": "markdown",
   "id": "82d23b13",
   "metadata": {},
   "source": [
    "# Queue"
   ]
  },
  {
   "cell_type": "code",
   "execution_count": 5,
   "id": "728d7ef2",
   "metadata": {},
   "outputs": [
    {
     "name": "stdout",
     "output_type": "stream",
     "text": [
      "Enter your choice: 1.enqueue 2.dequeue 3.display 4.quit\n",
      "1\n",
      "Enter the element: 12\n",
      "12 is added\n",
      "Enter your choice: 1.enqueue 2.dequeue 3.display 4.quit\n",
      "1\n",
      "Enter the element: 134\n",
      "134 is added\n",
      "Enter your choice: 1.enqueue 2.dequeue 3.display 4.quit\n",
      "3\n",
      "[12, 134]\n",
      "Enter your choice: 1.enqueue 2.dequeue 3.display 4.quit\n",
      "2\n",
      "12 is popped\n",
      "Enter your choice: 1.enqueue 2.dequeue 3.display 4.quit\n",
      "2\n",
      "134 is popped\n",
      "Enter your choice: 1.enqueue 2.dequeue 3.display 4.quit\n",
      "2\n",
      "Queue is empty\n",
      "Enter your choice: 1.enqueue 2.dequeue 3.display 4.quit\n",
      "3\n",
      "[]\n",
      "Enter your choice: 1.enqueue 2.dequeue 3.display 4.quit\n",
      "4\n"
     ]
    }
   ],
   "source": [
    "queue = []\n",
    "def enqueue():\n",
    "    ele = int(input(\"Enter the element: \"))\n",
    "    queue.append(ele) \n",
    "    print(ele,\"is added\")\n",
    "def dequeue():\n",
    "    if not queue:\n",
    "        print(\"Queue is empty\")\n",
    "    else:\n",
    "        eleme = queue.pop(0)\n",
    "        print(eleme,\"is popped\")\n",
    "def display():\n",
    "    print(queue)\n",
    "while True:\n",
    "    print(\"Enter your choice: 1.enqueue 2.dequeue 3.display 4.quit\")\n",
    "    n = int(input())\n",
    "    if n == 1:\n",
    "        enqueue()\n",
    "    elif n ==2:\n",
    "        dequeue()\n",
    "    elif n == 3:\n",
    "        display()\n",
    "    elif n == 4:\n",
    "        break\n",
    "    else:\n",
    "        print(\"enter correct option\")"
   ]
  },
  {
   "cell_type": "markdown",
   "id": "eff17f28",
   "metadata": {},
   "source": [
    "# Implementing Stack using Queue Module"
   ]
  },
  {
   "cell_type": "code",
   "execution_count": 20,
   "id": "1a36fb38",
   "metadata": {},
   "outputs": [
    {
     "name": "stdout",
     "output_type": "stream",
     "text": [
      "0\n",
      "True\n",
      "3\n",
      "8\n",
      "b\n",
      "a\n",
      "True\n"
     ]
    }
   ],
   "source": [
    "from queue import LifoQueue  #last in first out method from queue module\n",
    "s = LifoQueue(maxsize = 3 )\n",
    "print(s.qsize())\n",
    "s.put(\"a\")\n",
    "s.put(\"b\")\n",
    "s.put(8)\n",
    "print(s.full())\n",
    "print(s.qsize())\n",
    "print(s.get())\n",
    "print(s.get())\n",
    "print(s.get())\n",
    "print(s.empty())"
   ]
  },
  {
   "cell_type": "markdown",
   "id": "7fa2bc3d",
   "metadata": {},
   "source": [
    "# Implementation of queue using queue module"
   ]
  },
  {
   "cell_type": "code",
   "execution_count": 17,
   "id": "32a2364a",
   "metadata": {},
   "outputs": [
    {
     "name": "stdout",
     "output_type": "stream",
     "text": [
      "3\n"
     ]
    }
   ],
   "source": [
    "import queue\n",
    "l = queue.Queue(maxsize = 5)\n",
    "l.put(3)      #put is a enqueue operation\n",
    "l.put(7)\n",
    "print(l.get()) #get is an dequeue opereation"
   ]
  },
  {
   "cell_type": "markdown",
   "id": "5b18d503",
   "metadata": {},
   "source": [
    "# Implementation of queue using LinkedList"
   ]
  },
  {
   "cell_type": "code",
   "execution_count": 23,
   "id": "6c77c623",
   "metadata": {},
   "outputs": [
    {
     "name": "stdout",
     "output_type": "stream",
     "text": [
      "enqueue <value>\n",
      "dequeue\n",
      "quit\n",
      "what would you like to do? enqueue 100\n",
      "enqueue <value>\n",
      "dequeue\n",
      "quit\n",
      "what would you like to do? dequeue\n",
      "Dequeued element is 100\n",
      "enqueue <value>\n",
      "dequeue\n",
      "quit\n",
      "what would you like to do? quit\n"
     ]
    }
   ],
   "source": [
    "class Node:\n",
    "    def __init__(self,data):\n",
    "        self.data = data\n",
    "        self.next = None\n",
    "class Queue:\n",
    "    def __init__(self):\n",
    "        self.head = None\n",
    "        self.last = None\n",
    "    def enqueue(self,data):\n",
    "        if self.last is None:\n",
    "            self.head = Node(data)\n",
    "            self.last = self.head\n",
    "        else:\n",
    "            self.last.next = Node(data)\n",
    "            self.last = self.head\n",
    "    def dequeue(self):\n",
    "        if self.head is None:\n",
    "            return None\n",
    "        else:\n",
    "            to_return = self.head.data\n",
    "            self.head = self.head.next \n",
    "            return to_return\n",
    "a = Queue()\n",
    "while  True:\n",
    "    print(\"enqueue <value>\")\n",
    "    print(\"dequeue\")\n",
    "    print(\"quit\")\n",
    "    do = input(\"what would you like to do? \").split()\n",
    "    oper = do[0].strip().lower()\n",
    "    if oper == \"enqueue\":\n",
    "        a.enqueue(int(do[1]))\n",
    "    elif oper == \"dequeue\":\n",
    "        dequeued = a.dequeue()\n",
    "        if dequeued is None:\n",
    "            print(\"Queue is empty\")\n",
    "        else:\n",
    "            print(\"Dequeued element is\",int(dequeued))\n",
    "    elif oper == \"quit\":\n",
    "        break\n",
    "            "
   ]
  },
  {
   "cell_type": "markdown",
   "id": "f1549c8c",
   "metadata": {},
   "source": [
    "# to remove duplicates using single LinkedList"
   ]
  },
  {
   "cell_type": "code",
   "execution_count": 3,
   "id": "f106a0ac",
   "metadata": {},
   "outputs": [
    {
     "name": "stdout",
     "output_type": "stream",
     "text": [
      "please enter the element in the 2 3 4 3\n"
     ]
    },
    {
     "ename": "ValueError",
     "evalue": "invalid literal for int() with base 10: ' '",
     "output_type": "error",
     "traceback": [
      "\u001b[1;31m---------------------------------------------------------------------------\u001b[0m",
      "\u001b[1;31mValueError\u001b[0m                                Traceback (most recent call last)",
      "\u001b[1;32m~\\AppData\\Local\\Temp\\ipykernel_1852\\2333975517.py\u001b[0m in \u001b[0;36m<module>\u001b[1;34m\u001b[0m\n\u001b[0;32m     42\u001b[0m \u001b[0mdata_list\u001b[0m \u001b[1;33m=\u001b[0m \u001b[0minput\u001b[0m\u001b[1;33m(\u001b[0m\u001b[1;34m\"please enter the element in the \"\u001b[0m\u001b[1;33m)\u001b[0m\u001b[1;33m\u001b[0m\u001b[1;33m\u001b[0m\u001b[0m\n\u001b[0;32m     43\u001b[0m \u001b[1;32mfor\u001b[0m \u001b[0mdata\u001b[0m \u001b[1;32min\u001b[0m \u001b[0mdata_list\u001b[0m\u001b[1;33m:\u001b[0m\u001b[1;33m\u001b[0m\u001b[1;33m\u001b[0m\u001b[0m\n\u001b[1;32m---> 44\u001b[1;33m     \u001b[0ma_llist\u001b[0m\u001b[1;33m.\u001b[0m\u001b[0madd\u001b[0m\u001b[1;33m(\u001b[0m\u001b[0mint\u001b[0m\u001b[1;33m(\u001b[0m\u001b[0mdata\u001b[0m\u001b[1;33m)\u001b[0m\u001b[1;33m)\u001b[0m\u001b[1;33m\u001b[0m\u001b[1;33m\u001b[0m\u001b[0m\n\u001b[0m\u001b[0;32m     45\u001b[0m \u001b[0mremove_duplicates\u001b[0m\u001b[1;33m(\u001b[0m\u001b[0ma_llist\u001b[0m\u001b[1;33m)\u001b[0m\u001b[1;33m\u001b[0m\u001b[1;33m\u001b[0m\u001b[0m\n\u001b[0;32m     46\u001b[0m \u001b[0mprint\u001b[0m\u001b[1;33m(\u001b[0m\u001b[1;34m\"the list with duplicates removed:\"\u001b[0m\u001b[1;33m)\u001b[0m\u001b[1;33m\u001b[0m\u001b[1;33m\u001b[0m\u001b[0m\n",
      "\u001b[1;31mValueError\u001b[0m: invalid literal for int() with base 10: ' '"
     ]
    }
   ],
   "source": [
    "class Node:\n",
    "    def __init__(self,data):\n",
    "        self.data = data\n",
    "        self.next = None\n",
    "class LinkedList:\n",
    "    def __init__(self):\n",
    "        self.head = None\n",
    "        self.last_node =None\n",
    "    def add(self,data):\n",
    "        if self.last_node is None:\n",
    "            self.head = Node(data)\n",
    "            self.last_node = self.head\n",
    "        else:\n",
    "            self.last_node.next = Node(data)\n",
    "            self.last_node = self.last_node.next\n",
    "    def get_prev_node(self,ref_node):\n",
    "        current = self.head\n",
    "        while (current and current.next != ref_node):\n",
    "            current = current.next\n",
    "        return current\n",
    "    def remove(self,node):\n",
    "        prev_node = self.get_prev_node(node)\n",
    "        if prev_node is None:\n",
    "            self.head = self.head.next\n",
    "        else:\n",
    "            prev_node.next = node.next\n",
    "    def display(self):\n",
    "        current = self.head\n",
    "        while current:\n",
    "            print(current.data, end = \" \")\n",
    "    def remove_duplicates(llist):\n",
    "        current1 = llist.head\n",
    "        while current1:\n",
    "            data = current1.data\n",
    "            current2 = current1.next\n",
    "            while current2:\n",
    "                if current2.data  == data:\n",
    "                    llist.remove(current2)\n",
    "                current2 = current2.next\n",
    "            current1 = current1.next\n",
    "a_llist = LinkedList()\n",
    "data_list = input(\"please enter the element in the \")\n",
    "for data in data_list:\n",
    "    a_llist.add(int(data))\n",
    "remove_duplicates(a_llist)\n",
    "print(\"the list with duplicates removed:\")\n",
    "a_llist.display()"
   ]
  },
  {
   "cell_type": "code",
   "execution_count": 3,
   "id": "1efcc2c9",
   "metadata": {},
   "outputs": [
    {
     "name": "stdout",
     "output_type": "stream",
     "text": [
      "please enter the element in the 1 2 4\n"
     ]
    },
    {
     "ename": "ValueError",
     "evalue": "invalid literal for int() with base 10: ' '",
     "output_type": "error",
     "traceback": [
      "\u001b[1;31m---------------------------------------------------------------------------\u001b[0m",
      "\u001b[1;31mValueError\u001b[0m                                Traceback (most recent call last)",
      "\u001b[1;32m~\\AppData\\Local\\Temp\\ipykernel_11388\\2717303776.py\u001b[0m in \u001b[0;36m<module>\u001b[1;34m\u001b[0m\n\u001b[0;32m     42\u001b[0m \u001b[0mdata_list\u001b[0m \u001b[1;33m=\u001b[0m \u001b[0minput\u001b[0m\u001b[1;33m(\u001b[0m\u001b[1;34m\"please enter the element in the \"\u001b[0m\u001b[1;33m)\u001b[0m\u001b[1;33m\u001b[0m\u001b[1;33m\u001b[0m\u001b[0m\n\u001b[0;32m     43\u001b[0m \u001b[1;32mfor\u001b[0m \u001b[0mdata\u001b[0m \u001b[1;32min\u001b[0m \u001b[0mdata_list\u001b[0m\u001b[1;33m:\u001b[0m\u001b[1;33m\u001b[0m\u001b[1;33m\u001b[0m\u001b[0m\n\u001b[1;32m---> 44\u001b[1;33m     \u001b[0ma_llist\u001b[0m\u001b[1;33m.\u001b[0m\u001b[0minsert\u001b[0m\u001b[1;33m(\u001b[0m\u001b[0mint\u001b[0m\u001b[1;33m(\u001b[0m\u001b[0mdata\u001b[0m\u001b[1;33m)\u001b[0m\u001b[1;33m)\u001b[0m\u001b[1;33m\u001b[0m\u001b[1;33m\u001b[0m\u001b[0m\n\u001b[0m\u001b[0;32m     45\u001b[0m \u001b[0mremove_duplicates\u001b[0m\u001b[1;33m(\u001b[0m\u001b[0ma_llist\u001b[0m\u001b[1;33m)\u001b[0m\u001b[1;33m\u001b[0m\u001b[1;33m\u001b[0m\u001b[0m\n\u001b[0;32m     46\u001b[0m \u001b[0mprint\u001b[0m\u001b[1;33m(\u001b[0m\u001b[1;34m\"the list with duplicates removed:\"\u001b[0m\u001b[1;33m)\u001b[0m\u001b[1;33m\u001b[0m\u001b[1;33m\u001b[0m\u001b[0m\n",
      "\u001b[1;31mValueError\u001b[0m: invalid literal for int() with base 10: ' '"
     ]
    }
   ],
   "source": [
    "class Node:\n",
    "    def __init__(self,data):\n",
    "        self.data = data\n",
    "        self.next = None\n",
    "class LinkedList:\n",
    "    def __init__(self):\n",
    "        self.head = None\n",
    "        self.last_node =None\n",
    "    def insert(self,data):\n",
    "        if self.last_node is None:\n",
    "            self.head = Node(data)\n",
    "            self.last_node = self.head\n",
    "        else:\n",
    "            self.last_node.next = Node(data)\n",
    "            self.last_node = self.last_node.next\n",
    "    def get_prev_node(self,ref_node):\n",
    "        current = self.head\n",
    "        while (current and current.next != ref_node):\n",
    "            current = current.next\n",
    "        return current\n",
    "    def remove(self,node):\n",
    "        prev_node = self.get_prev_node(node)\n",
    "        if prev_node is None:\n",
    "            self.head = self.head.next\n",
    "        else:\n",
    "            prev_node.next = node.next\n",
    "    def display(self):\n",
    "        current = self.head\n",
    "        while current:\n",
    "            print(current.data, end = \" \")\n",
    "def remove_duplicates(llist):\n",
    "    current1 = llist.head\n",
    "    while current1:\n",
    "        data = current1.data\n",
    "        current2 = current1.next\n",
    "        while current2:\n",
    "            if current2.data  == data:\n",
    "                llist.remove(current2)\n",
    "            current2 = current2.next\n",
    "        current1 = current1.next\n",
    "a_llist = LinkedList()\n",
    "data_list = input(\"please enter the element in the \")\n",
    "for data in data_list:\n",
    "    a_llist.insert(int(data))\n",
    "remove_duplicates(a_llist)\n",
    "print(\"the list with duplicates removed:\")\n",
    "a_llist.display()"
   ]
  },
  {
   "cell_type": "code",
   "execution_count": null,
   "id": "5de5f424",
   "metadata": {},
   "outputs": [],
   "source": []
  }
 ],
 "metadata": {
  "kernelspec": {
   "display_name": "Python 3 (ipykernel)",
   "language": "python",
   "name": "python3"
  },
  "language_info": {
   "codemirror_mode": {
    "name": "ipython",
    "version": 3
   },
   "file_extension": ".py",
   "mimetype": "text/x-python",
   "name": "python",
   "nbconvert_exporter": "python",
   "pygments_lexer": "ipython3",
   "version": "3.9.13"
  }
 },
 "nbformat": 4,
 "nbformat_minor": 5
}
