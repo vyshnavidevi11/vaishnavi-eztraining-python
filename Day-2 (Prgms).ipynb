{
 "cells": [
  {
   "cell_type": "code",
   "execution_count": 1,
   "id": "0589484d",
   "metadata": {},
   "outputs": [
    {
     "name": "stdout",
     "output_type": "stream",
     "text": [
      "500\n",
      "the given number is 500\n"
     ]
    }
   ],
   "source": [
    "num1 = int(input())\n",
    "if (num1 == 500):\n",
    "    print(\"the given number is 500\")\n",
    "else:\n",
    "    print(\"the given number is not 500\")\n"
   ]
  },
  {
   "cell_type": "code",
   "execution_count": 2,
   "id": "93fd5778",
   "metadata": {},
   "outputs": [
    {
     "name": "stdout",
     "output_type": "stream",
     "text": [
      "Enter the Number: 54\n",
      "the given number is Even - positive\n"
     ]
    }
   ],
   "source": [
    "n = int(input(\"Enter the Number: \"))\n",
    "if (n>0):\n",
    "    if (n%2 == 0):\n",
    "        print(\"the given number is Even - positive\")\n",
    "    else:\n",
    "        print(\"The given number is Odd - positive\")\n",
    "else:\n",
    "    if (n%2 == 0):\n",
    "        print(\"The Given Number is Even - Negative\")\n",
    "    else:\n",
    "        print(\"The given Number is Odd - Negative\")"
   ]
  },
  {
   "cell_type": "code",
   "execution_count": 3,
   "id": "fdbabca2",
   "metadata": {},
   "outputs": [
    {
     "name": "stdout",
     "output_type": "stream",
     "text": [
      "Enter the first number: 44\n",
      "Enter the second number: 12\n",
      "Number 1 is the greatest 44\n"
     ]
    }
   ],
   "source": [
    "num1 = int(input(\"Enter the first number: \"))\n",
    "num2 = int(input(\"Enter the second number: \"))\n",
    "if (num1>num2):\n",
    "    print(\"Number 1 is the greatest\",num1)\n",
    "else:\n",
    "    print(\"Number 2 is the greatest\",num2)"
   ]
  },
  {
   "cell_type": "code",
   "execution_count": 4,
   "id": "27bd8732",
   "metadata": {},
   "outputs": [
    {
     "name": "stdout",
     "output_type": "stream",
     "text": [
      "Enter the first number: 67\n",
      "Enter the second number: 34\n",
      "Enter the Third Number: 98\n",
      "Number 3 is the greatest\n"
     ]
    }
   ],
   "source": [
    "num1 = int(input(\"Enter the first number: \"))\n",
    "num2 = int(input(\"Enter the second number: \"))\n",
    "num3 = int(input(\"Enter the Third Number: \"))\n",
    "if (num1>num2 and num1>num3):\n",
    "    print(\"Number 1 is the greatest\")\n",
    "elif (num2>num1 and num2>num3):\n",
    "    print(\"Number 2 is the greatest\")\n",
    "else:\n",
    "    print(\"Number 3 is the greatest\")"
   ]
  },
  {
   "cell_type": "code",
   "execution_count": 5,
   "id": "284fdf2f",
   "metadata": {},
   "outputs": [
    {
     "name": "stdout",
     "output_type": "stream",
     "text": [
      "121\n",
      "The Number is divisible by 11\n"
     ]
    }
   ],
   "source": [
    "n = int(input())\n",
    "if (n%11 == 0):\n",
    "    print(\"The Number is divisible by 11\")\n",
    "else:\n",
    "    print(\"The number is not divisible by 11\")\n"
   ]
  },
  {
   "cell_type": "code",
   "execution_count": 6,
   "id": "3d383265",
   "metadata": {},
   "outputs": [
    {
     "name": "stdout",
     "output_type": "stream",
     "text": [
      "Enter the Number: 23\n",
      "the given number is not divisible by both 2 and 5\n"
     ]
    }
   ],
   "source": [
    "n = int(input(\"Enter the Number: \"))\n",
    "if (n%2 == 0 and n%5==0):\n",
    "    print(\"The given number is divisible by both 2 and 5\")\n",
    "else:\n",
    "    print(\"the given number is not divisible by both 2 and 5\")"
   ]
  },
  {
   "cell_type": "code",
   "execution_count": 14,
   "id": "8934b947",
   "metadata": {},
   "outputs": [
    {
     "name": "stdout",
     "output_type": "stream",
     "text": [
      "Enter the number: 78\n",
      "The given number is integer\n"
     ]
    }
   ],
   "source": [
    "n = float(input(\"Enter the number: \"))\n",
    "if (n == int(n)):\n",
    "    print(\"The given number is integer\")\n",
    "else:\n",
    "    print(\"The given number is float\")"
   ]
  },
  {
   "cell_type": "code",
   "execution_count": 17,
   "id": "7a94b2d5",
   "metadata": {},
   "outputs": [
    {
     "name": "stdout",
     "output_type": "stream",
     "text": [
      "float\n"
     ]
    }
   ],
   "source": [
    "n = 10.4\n",
    "res = n-int(n)\n",
    "if res == 0:\n",
    "    print(\"Integer\")\n",
    "else:\n",
    "    print(\"float\")"
   ]
  },
  {
   "cell_type": "code",
   "execution_count": 19,
   "id": "315e5da8",
   "metadata": {},
   "outputs": [
    {
     "name": "stdout",
     "output_type": "stream",
     "text": [
      "1\n",
      "2\n",
      "3\n",
      "4\n",
      "5\n",
      "6\n",
      "7\n",
      "8\n",
      "9\n",
      "10\n"
     ]
    }
   ],
   "source": [
    "i = 1\n",
    "while i<=10:\n",
    "    print(i)\n",
    "    i = i+1"
   ]
  },
  {
   "cell_type": "code",
   "execution_count": 20,
   "id": "905a3aa8",
   "metadata": {},
   "outputs": [
    {
     "name": "stdout",
     "output_type": "stream",
     "text": [
      "2\n",
      "4\n",
      "6\n",
      "8\n",
      "10\n",
      "12\n",
      "14\n",
      "16\n",
      "18\n",
      "20\n"
     ]
    }
   ],
   "source": [
    "i = 1 \n",
    "while i<=20:\n",
    "    if (i%2 == 0):\n",
    "        print(i)\n",
    "    i = i+1"
   ]
  },
  {
   "cell_type": "code",
   "execution_count": 22,
   "id": "c3711989",
   "metadata": {},
   "outputs": [
    {
     "name": "stdout",
     "output_type": "stream",
     "text": [
      "3\n",
      "5\n",
      "7\n",
      "9\n",
      "11\n",
      "13\n",
      "15\n",
      "17\n",
      "19\n",
      "21\n",
      "23\n",
      "25\n",
      "27\n",
      "29\n"
     ]
    }
   ],
   "source": [
    "i = 3\n",
    "while i<=30:\n",
    "    if (i%2 != 0):\n",
    "        print(i)\n",
    "    i = i+1"
   ]
  },
  {
   "cell_type": "code",
   "execution_count": 23,
   "id": "f05ec839",
   "metadata": {},
   "outputs": [
    {
     "name": "stdout",
     "output_type": "stream",
     "text": [
      "1\n",
      "2\n",
      "3\n",
      "4\n",
      "5\n",
      "6\n",
      "7\n",
      "8\n",
      "9\n",
      "10\n"
     ]
    }
   ],
   "source": [
    "\n",
    "for i in range(1,11):\n",
    "    print(i)"
   ]
  },
  {
   "cell_type": "code",
   "execution_count": 24,
   "id": "dac22857",
   "metadata": {},
   "outputs": [
    {
     "name": "stdout",
     "output_type": "stream",
     "text": [
      "2\n",
      "4\n",
      "6\n",
      "8\n",
      "10\n",
      "12\n",
      "14\n",
      "16\n",
      "18\n",
      "20\n"
     ]
    }
   ],
   "source": [
    "for i in range(1,21):\n",
    "    if i%2 == 0:\n",
    "        print(i)"
   ]
  },
  {
   "cell_type": "code",
   "execution_count": 25,
   "id": "c9d83808",
   "metadata": {},
   "outputs": [
    {
     "name": "stdout",
     "output_type": "stream",
     "text": [
      "1\n",
      "3\n",
      "5\n",
      "7\n",
      "9\n",
      "11\n",
      "13\n",
      "15\n",
      "17\n",
      "19\n",
      "21\n",
      "23\n",
      "25\n",
      "27\n",
      "29\n"
     ]
    }
   ],
   "source": [
    "for i in range(1,30):\n",
    "    if i%2 != 0:\n",
    "        print(i)"
   ]
  },
  {
   "cell_type": "code",
   "execution_count": 1,
   "id": "0a0dc513",
   "metadata": {},
   "outputs": [
    {
     "name": "stdout",
     "output_type": "stream",
     "text": [
      "Guess the number32\n",
      "Too high\n",
      "Guess the number12\n",
      "Too high\n",
      "Guess the number2\n",
      "Too low\n",
      "Guess the number5\n",
      "You guessed it right\n"
     ]
    }
   ],
   "source": [
    "import random\n",
    "guess = int(input(\"Guess the number\"))\n",
    "n = random.randrange(1,100)\n",
    "while n!=guess:\n",
    "    if (guess > n):\n",
    "        print(\"Too high\")\n",
    "        guess = int(input(\"Guess the number\"))\n",
    "    elif (guess<n):\n",
    "        print(\"Too low\")\n",
    "        guess = int(input(\"Guess the number\"))\n",
    "    else:\n",
    "        break\n",
    "print(\"You guessed it right\")"
   ]
  },
  {
   "cell_type": "markdown",
   "id": "f4aa2f37",
   "metadata": {},
   "source": [
    "#MORNING SESSION"
   ]
  },
  {
   "cell_type": "code",
   "execution_count": 2,
   "id": "3887825e",
   "metadata": {},
   "outputs": [
    {
     "name": "stdout",
     "output_type": "stream",
     "text": [
      "size:4\n",
      "1 2 3 4\n",
      "[1, 2, 3, 4]\n"
     ]
    }
   ],
   "source": [
    "n = int(input(\"size:\"))\n",
    "a = list(map(int,input().split()))\n",
    "print(a)"
   ]
  },
  {
   "cell_type": "code",
   "execution_count": 6,
   "id": "793ad0d1",
   "metadata": {
    "scrolled": true
   },
   "outputs": [
    {
     "name": "stdout",
     "output_type": "stream",
     "text": [
      "It's a good day all***is***good Joy\n"
     ]
    }
   ],
   "source": [
    "print(\"It's\",\"a\",\"good\",\"day\",end = \" \")\n",
    "print(\"all\",\"is\",\"good\",sep=\"***\",end = \" \")\n",
    "print(\"Joy\")"
   ]
  },
  {
   "cell_type": "code",
   "execution_count": 7,
   "id": "dbf228f4",
   "metadata": {},
   "outputs": [
    {
     "name": "stdout",
     "output_type": "stream",
     "text": [
      "568\n",
      "the given number is not 500\n"
     ]
    }
   ],
   "source": [
    "num1 = int(input())\n",
    "if (num1 == 500):\n",
    "    print(\"the given number is 500\")\n",
    "else:\n",
    "    print(\"the given number is not 500\")"
   ]
  },
  {
   "cell_type": "code",
   "execution_count": 3,
   "id": "0f515079",
   "metadata": {},
   "outputs": [
    {
     "name": "stdout",
     "output_type": "stream",
     "text": [
      "23\n",
      "the number is Odd - positive\n"
     ]
    }
   ],
   "source": [
    "n = int(input())\n",
    "if (n > 0):\n",
    "    if (n/2 == 0):\n",
    "        print(\"the number is Even - positive\")\n",
    "    else:\n",
    "        print(\"the number is Odd - positive\")\n",
    "else:\n",
    "    if (n/2 ==0):\n",
    "        print(\"the number is Even - Negative\")\n",
    "    else:\n",
    "        print(\"the number is Odd - Negative\")"
   ]
  },
  {
   "cell_type": "code",
   "execution_count": 4,
   "id": "e1178b33",
   "metadata": {},
   "outputs": [
    {
     "name": "stdout",
     "output_type": "stream",
     "text": [
      "Enter the Number: 10\n",
      "The given number is divisible by both 2 and 5\n"
     ]
    }
   ],
   "source": [
    "n = int(input(\"Enter the Number: \"))\n",
    "if (n%2 == 0 and n%5==0):\n",
    "    print(\"The given number is divisible by both 2 and 5\")\n",
    "else:\n",
    "    print(\"the given number is not divisible by both 2 and 5\")"
   ]
  },
  {
   "cell_type": "code",
   "execution_count": 8,
   "id": "d3d3464a",
   "metadata": {},
   "outputs": [
    {
     "name": "stdout",
     "output_type": "stream",
     "text": [
      "121\n",
      "The Number is divisible by 11\n"
     ]
    }
   ],
   "source": [
    "n = int(input())\n",
    "if (n%11 == 0):\n",
    "    print(\"The Number is divisible by 11\")\n",
    "else:\n",
    "    print(\"The number is not divisible by 11\")\n"
   ]
  },
  {
   "cell_type": "code",
   "execution_count": 12,
   "id": "5967a904",
   "metadata": {},
   "outputs": [
    {
     "name": "stdout",
     "output_type": "stream",
     "text": [
      "Enter the first number: 45\n",
      "Enter the second number: 54\n",
      "Number 2 is the greatest 54\n"
     ]
    }
   ],
   "source": [
    "num1 = int(input(\"Enter the first number: \"))\n",
    "num2 = int(input(\"Enter the second number: \"))\n",
    "if (num1>num2):\n",
    "    print(\"Number 1 is the greatest\",num1)\n",
    "else:\n",
    "    print(\"Number 2 is the greatest\",num2)"
   ]
  },
  {
   "cell_type": "code",
   "execution_count": 10,
   "id": "8c335bce",
   "metadata": {},
   "outputs": [
    {
     "name": "stdout",
     "output_type": "stream",
     "text": [
      "Enter the first number: 56\n",
      "Enter the second number: 34\n",
      "Enter the Third Number: 43\n",
      "Number 1 is the greatest\n"
     ]
    }
   ],
   "source": [
    "num1 = int(input(\"Enter the first number: \"))\n",
    "num2 = int(input(\"Enter the second number: \"))\n",
    "num3 = int(input(\"Enter the Third Number: \"))\n",
    "if (num1>num2 and num1>num3):\n",
    "    print(\"Number 1 is the greatest\")\n",
    "elif (num2>num1 and num2>num3):\n",
    "    print(\"Number 2 is the greatest\")\n",
    "else:\n",
    "    print(\"Number 3 is the greatest\")"
   ]
  },
  {
   "cell_type": "code",
   "execution_count": 9,
   "id": "ef9a8264",
   "metadata": {},
   "outputs": [
    {
     "name": "stdout",
     "output_type": "stream",
     "text": [
      "6\n",
      "* * * * * * \n",
      " * * * * * \n",
      "  * * * * \n",
      "   * * * \n",
      "    * * \n",
      "     * \n"
     ]
    }
   ],
   "source": [
    "a = int(input())\n",
    "for i in range(a):\n",
    "    space = \" \"*i\n",
    "    print(space+(\"* \")*a)\n",
    "    a = a-1"
   ]
  },
  {
   "cell_type": "code",
   "execution_count": 11,
   "id": "99701d2d",
   "metadata": {},
   "outputs": [
    {
     "name": "stdout",
     "output_type": "stream",
     "text": [
      "56\n",
      "Hottest\n"
     ]
    }
   ],
   "source": [
    "a = int(input())\n",
    "if (a >45):\n",
    "    print(\"Hottest\")\n",
    "elif (a>40 and a<=45):\n",
    "    print(\"Hot\")\n",
    "elif(a>25 and a<=40):\n",
    "    print(\"Moderate\")\n",
    "elif (a>=10 and a<= 25):\n",
    "    print(\"Cold\")\n",
    "elif (a<10):\n",
    "    print(\"Chill\")"
   ]
  },
  {
   "cell_type": "code",
   "execution_count": null,
   "id": "a3e19f5d",
   "metadata": {},
   "outputs": [],
   "source": []
  }
 ],
 "metadata": {
  "kernelspec": {
   "display_name": "Python 3 (ipykernel)",
   "language": "python",
   "name": "python3"
  },
  "language_info": {
   "codemirror_mode": {
    "name": "ipython",
    "version": 3
   },
   "file_extension": ".py",
   "mimetype": "text/x-python",
   "name": "python",
   "nbconvert_exporter": "python",
   "pygments_lexer": "ipython3",
   "version": "3.9.7"
  }
 },
 "nbformat": 4,
 "nbformat_minor": 5
}
