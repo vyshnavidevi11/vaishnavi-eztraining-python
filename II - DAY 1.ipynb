{
 "cells": [
  {
   "cell_type": "code",
   "execution_count": 2,
   "id": "dee2b0b6",
   "metadata": {},
   "outputs": [],
   "source": [
    "#Lambda function\n",
    "#its called as anonymous function.when we want to use function concept without function name \n",
    "#there we apply concept of lambda function. "
   ]
  },
  {
   "cell_type": "code",
   "execution_count": 3,
   "id": "b32b39ca",
   "metadata": {},
   "outputs": [
    {
     "name": "stdout",
     "output_type": "stream",
     "text": [
      "[4, 5, 6, 7]\n"
     ]
    }
   ],
   "source": [
    "l = [1,2,3,4]\n",
    "re = map(lambda x:x+3,l)\n",
    "print(list(re))"
   ]
  },
  {
   "cell_type": "code",
   "execution_count": 4,
   "id": "e555fd54",
   "metadata": {},
   "outputs": [
    {
     "name": "stdout",
     "output_type": "stream",
     "text": [
      "[1, 16, 81, 256]\n"
     ]
    }
   ],
   "source": [
    "res = map(lambda x:pow(x,4),l)\n",
    "print(list(res))"
   ]
  },
  {
   "cell_type": "code",
   "execution_count": 5,
   "id": "548fc996",
   "metadata": {},
   "outputs": [
    {
     "name": "stdout",
     "output_type": "stream",
     "text": [
      "lia\n"
     ]
    }
   ],
   "source": [
    "name = \"lia\"\n",
    "(lambda x:print(name))(name)"
   ]
  },
  {
   "cell_type": "code",
   "execution_count": 6,
   "id": "324dab67",
   "metadata": {},
   "outputs": [],
   "source": [
    "#write a prgm after creating a list with even numbers within the range 1 to 15 now apply lambda function and\n",
    "#create a new list which should have square roots of the elements"
   ]
  },
  {
   "cell_type": "code",
   "execution_count": 7,
   "id": "067a1096",
   "metadata": {},
   "outputs": [
    {
     "name": "stdout",
     "output_type": "stream",
     "text": [
      "[1.4142135623730951, 2.0, 2.449489742783178, 2.8284271247461903, 3.1622776601683795, 3.4641016151377544, 3.7416573867739413]\n"
     ]
    }
   ],
   "source": [
    "l = []\n",
    "for i in range(1,15):\n",
    "    if i%2 == 0:\n",
    "        l.append(i)\n",
    "res = map(lambda x:pow(x,1/2),l)\n",
    "print(list(res))\n"
   ]
  },
  {
   "cell_type": "code",
   "execution_count": 8,
   "id": "b5ac7c31",
   "metadata": {},
   "outputs": [
    {
     "name": "stdout",
     "output_type": "stream",
     "text": [
      "[1.4142135623730951, 2.0, 2.449489742783178, 2.8284271247461903, 3.1622776601683795, 3.4641016151377544, 3.7416573867739413]\n"
     ]
    }
   ],
   "source": [
    "from math import sqrt\n",
    "l = []\n",
    "for i in range(1,15):\n",
    "    if i%2 == 0:\n",
    "        l.append(i)\n",
    "res = map(lambda x:sqrt(x),l)\n",
    "print(list(res))\n"
   ]
  },
  {
   "cell_type": "code",
   "execution_count": null,
   "id": "495f2813",
   "metadata": {},
   "outputs": [],
   "source": []
  },
  {
   "cell_type": "markdown",
   "id": "571cb515",
   "metadata": {},
   "source": [
    "# OOPS"
   ]
  },
  {
   "cell_type": "code",
   "execution_count": 9,
   "id": "bd335315",
   "metadata": {},
   "outputs": [],
   "source": [
    "#1.Abstraction\n",
    "#2.Encapsulation\n",
    "#3.Inheritance\n",
    "#4.Polymorphism"
   ]
  },
  {
   "cell_type": "code",
   "execution_count": 10,
   "id": "5d306119",
   "metadata": {},
   "outputs": [],
   "source": [
    "#Hiding the implementation part showing what is reqired for the user is called as abstraction eg: .exe file \n",
    "#we can make class or method as abstract, opposite to abstract is concrete. "
   ]
  },
  {
   "cell_type": "markdown",
   "id": "a30e91b0",
   "metadata": {},
   "source": [
    "# Abstraction"
   ]
  },
  {
   "cell_type": "code",
   "execution_count": 11,
   "id": "281f6f7a",
   "metadata": {},
   "outputs": [
    {
     "name": "stdout",
     "output_type": "stream",
     "text": [
      "Abstract method\n",
      "2nd function\n"
     ]
    }
   ],
   "source": [
    "from abc import ABC, abstractmethod\n",
    "class abstractdemo(ABC):\n",
    "    @abstractmethod  #called decorator to make a function abstract one\n",
    "    def display(self):\n",
    "        None\n",
    "    @abstractmethod\n",
    "    def show(self):\n",
    "        None\n",
    "#changing abstract to concrete \n",
    "class demo(abstractdemo):\n",
    "    def display(self):\n",
    "        print(\"Abstract method\")\n",
    "    def show(self):\n",
    "        print(\"2nd function\")\n",
    "ob = demo()\n",
    "ob.display()\n",
    "ob.show()"
   ]
  },
  {
   "cell_type": "markdown",
   "id": "abbe776c",
   "metadata": {},
   "source": [
    "# Encapsulation"
   ]
  },
  {
   "cell_type": "code",
   "execution_count": 12,
   "id": "fc4d9e86",
   "metadata": {},
   "outputs": [],
   "source": [
    "#Binding data and function into a single entity \n",
    "#1.public - one class information can be accessed by any class\n",
    "#2.private - can be used only where it is declared / not in an inherited class\n",
    "#3.protected - can be accessed only where it got declared.. whichever class inherited from this class there also we can use \n"
   ]
  },
  {
   "cell_type": "markdown",
   "id": "209cdaad",
   "metadata": {},
   "source": [
    "# Inheritance"
   ]
  },
  {
   "cell_type": "code",
   "execution_count": 13,
   "id": "fc30d4bb",
   "metadata": {},
   "outputs": [],
   "source": [
    "#Base class/ parent class / main class \n",
    "#derived class / child class - derived class will inherit the properties from base class\n",
    "#Acquring the properties from a base class to a child class is known as inheritance\n",
    "#types\n",
    "#1.single inheritance\n",
    "#2.Multiple inheritance\n",
    "#3.multi-level inheritance\n",
    "#4.Hierarchical inheritance\n",
    "#5.Hybrid inheritance"
   ]
  },
  {
   "cell_type": "markdown",
   "id": "94b97677",
   "metadata": {},
   "source": [
    "# single inheritance"
   ]
  },
  {
   "cell_type": "code",
   "execution_count": 14,
   "id": "ec798708",
   "metadata": {},
   "outputs": [
    {
     "name": "stdout",
     "output_type": "stream",
     "text": [
      "Child class\n",
      "Parent class\n"
     ]
    }
   ],
   "source": [
    "class parent(): #Base class\n",
    "    def display(self):\n",
    "        print(\"Parent class\")\n",
    "class child(parent): #child class \n",
    "    def show(self):\n",
    "        print(\"Child class\")\n",
    "ob = child() #object for child class to accesss both classes properties\n",
    "ob.show()\n",
    "ob.display()"
   ]
  },
  {
   "cell_type": "code",
   "execution_count": 15,
   "id": "22569112",
   "metadata": {},
   "outputs": [
    {
     "name": "stdout",
     "output_type": "stream",
     "text": [
      "5.0\n"
     ]
    }
   ],
   "source": [
    "class parent:\n",
    "    n = 50\n",
    "class child(parent):\n",
    "    def cal(self):\n",
    "        c = self.n /10 \n",
    "        print(c)\n",
    "ob = child()\n",
    "ob.cal()"
   ]
  },
  {
   "cell_type": "markdown",
   "id": "25f7596f",
   "metadata": {},
   "source": [
    "# Multiple Inheritance"
   ]
  },
  {
   "cell_type": "code",
   "execution_count": 17,
   "id": "c164183d",
   "metadata": {},
   "outputs": [
    {
     "name": "stdout",
     "output_type": "stream",
     "text": [
      "Child class\n",
      "Mom class\n",
      "Dad class\n"
     ]
    }
   ],
   "source": [
    "class mom():\n",
    "    def mdisplay(self):\n",
    "        print(\"Mom class\")\n",
    "class dad:\n",
    "    def ddisplay(self):\n",
    "        print(\"Dad class\")\n",
    "class child(mom,dad):\n",
    "    def cdisplay(self):\n",
    "        print(\"Child class\")\n",
    "ob = child()\n",
    "ob.cdisplay()\n",
    "ob.mdisplay()\n",
    "ob.ddisplay()"
   ]
  },
  {
   "cell_type": "markdown",
   "id": "389d8f2f",
   "metadata": {},
   "source": [
    "# Multi- level inheritance"
   ]
  },
  {
   "cell_type": "code",
   "execution_count": 19,
   "id": "d07e00d1",
   "metadata": {},
   "outputs": [
    {
     "name": "stdout",
     "output_type": "stream",
     "text": [
      "Child class\n",
      "grandparents class\n",
      "Parent class\n"
     ]
    }
   ],
   "source": [
    "class grandparent:\n",
    "    def display(self):\n",
    "        print(\"grandparents class\")\n",
    "class parent(grandparent):\n",
    "    def show(self):\n",
    "        print(\"Parent class\")\n",
    "class child(parent):\n",
    "    def cdisplay(self):\n",
    "        print(\"Child class\")\n",
    "obj = child()\n",
    "obj.cdisplay()\n",
    "obj.display()\n",
    "obj.show()"
   ]
  },
  {
   "cell_type": "markdown",
   "id": "1f5e3f90",
   "metadata": {},
   "source": [
    "# Hierarchical Inheritance"
   ]
  },
  {
   "cell_type": "code",
   "execution_count": 20,
   "id": "d3143e7b",
   "metadata": {},
   "outputs": [
    {
     "name": "stdout",
     "output_type": "stream",
     "text": [
      "child1 class\n",
      "parent class\n",
      "Child2 class\n",
      "parent class\n"
     ]
    }
   ],
   "source": [
    "class parent:\n",
    "    def display(self):\n",
    "        print(\"parent class\")\n",
    "class child1(parent):\n",
    "    def show(self):\n",
    "        print(\"child1 class\")\n",
    "class child2(parent):\n",
    "    def show1(self):\n",
    "        print(\"Child2 class\")\n",
    "ob1 = child1()\n",
    "ob2 = child2()\n",
    "ob1.show()\n",
    "ob1.display()\n",
    "ob2.show1()\n",
    "ob2.display()"
   ]
  },
  {
   "cell_type": "markdown",
   "id": "b81a7910",
   "metadata": {},
   "source": [
    "# Hybrid inheritance"
   ]
  },
  {
   "cell_type": "code",
   "execution_count": 23,
   "id": "3adb1f3d",
   "metadata": {},
   "outputs": [
    {
     "name": "stdout",
     "output_type": "stream",
     "text": [
      "child1 of kid1 class\n",
      "child1 class\n",
      "Parent class\n",
      "*******\n",
      "child1 class\n",
      "child1 of kid2 class\n",
      "Parent class\n",
      "*******\n",
      "child2 of kid1 class\n",
      "child2 class\n",
      "Parent class\n",
      "*******\n",
      "child2 of kid2 class\n",
      "child2 class\n",
      "Parent class\n"
     ]
    }
   ],
   "source": [
    "class parent:\n",
    "    def display(self):\n",
    "        print(\"Parent class\")\n",
    "class child1(parent):\n",
    "    def show1(self):\n",
    "        print(\"child1 class\")\n",
    "class child2(parent):\n",
    "    def show2(self):\n",
    "        print(\"child2 class\")\n",
    "class kid1(child1):\n",
    "    def display1(self):\n",
    "        print(\"child1 of kid1 class\")\n",
    "class kid2(child1):\n",
    "    def display2(self):\n",
    "        print(\"child1 of kid2 class\")\n",
    "class kiddo1(child2):\n",
    "    def showw1(self):\n",
    "        print(\"child2 of kid1 class\")\n",
    "class kiddo2(child2):\n",
    "    def showw2(self):\n",
    "        print(\"child2 of kid2 class\")\n",
    "obj1 = kid1()\n",
    "obj1.display1()\n",
    "obj1.show1()\n",
    "obj1.display()\n",
    "print(\"*******\")\n",
    "obj2 = kid2()\n",
    "obj2.show1()\n",
    "obj2.display2()\n",
    "obj2.display()\n",
    "print(\"*******\")\n",
    "obj3 = kiddo1()\n",
    "obj3.showw1()\n",
    "obj3.show2()\n",
    "obj3.display()\n",
    "print(\"*******\")\n",
    "obj4 = kiddo2()\n",
    "obj4.showw2()\n",
    "obj4.show2()\n",
    "obj4.display()"
   ]
  },
  {
   "cell_type": "markdown",
   "id": "be0c74ff",
   "metadata": {},
   "source": [
    "# Encapsulation"
   ]
  },
  {
   "cell_type": "code",
   "execution_count": 24,
   "id": "6500f11c",
   "metadata": {},
   "outputs": [],
   "source": [
    "# a- public\n",
    "# __a private (double underscore)\n",
    "# _a protected (single underscore)"
   ]
  },
  {
   "cell_type": "code",
   "execution_count": 2,
   "id": "5ba66e03",
   "metadata": {},
   "outputs": [
    {
     "name": "stdout",
     "output_type": "stream",
     "text": [
      "97\n",
      "happy number\n"
     ]
    }
   ],
   "source": [
    "n = int(input())\n",
    "while(n>=10):\n",
    "    total = 0\n",
    "    for i in range(len(str(n))+1):\n",
    "        rem = n%10\n",
    "        total = total +(rem**2)\n",
    "        n=n//10\n",
    "    n = total \n",
    "if n == 1:\n",
    "    print(\"happy number\")\n",
    "else:\n",
    "    print(\"not a happy number\")"
   ]
  },
  {
   "cell_type": "code",
   "execution_count": null,
   "id": "f9e36902",
   "metadata": {},
   "outputs": [],
   "source": []
  }
 ],
 "metadata": {
  "kernelspec": {
   "display_name": "Python 3 (ipykernel)",
   "language": "python",
   "name": "python3"
  },
  "language_info": {
   "codemirror_mode": {
    "name": "ipython",
    "version": 3
   },
   "file_extension": ".py",
   "mimetype": "text/x-python",
   "name": "python",
   "nbconvert_exporter": "python",
   "pygments_lexer": "ipython3",
   "version": "3.9.7"
  }
 },
 "nbformat": 4,
 "nbformat_minor": 5
}
