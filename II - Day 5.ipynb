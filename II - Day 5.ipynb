{
 "cells": [
  {
   "cell_type": "markdown",
   "id": "fec394fa",
   "metadata": {},
   "source": [
    "# NON Linear - Tree"
   ]
  },
  {
   "cell_type": "markdown",
   "id": "e75eb2d2",
   "metadata": {},
   "source": [
    "Types of trees:\n",
    "    Binary tree: a node can have maximum of two children"
   ]
  },
  {
   "cell_type": "code",
   "execution_count": 7,
   "id": "995d7451",
   "metadata": {},
   "outputs": [
    {
     "name": "stdout",
     "output_type": "stream",
     "text": [
      "Root Node: \n",
      "50\n",
      "******\n",
      "Root node left child is: \n",
      "20\n",
      "******\n",
      "Root node right child is: \n",
      "5\n",
      "******\n",
      "Root node left child's left is: \n",
      "40\n",
      "******\n",
      "Root node left child's right is: \n",
      "58\n",
      "******\n",
      "Root node right child's left is: \n",
      "60\n"
     ]
    }
   ],
   "source": [
    "class BinaryTreeNode:\n",
    "    def __init__(self,data):\n",
    "        self.data = data\n",
    "        self.rightchild = None\n",
    "        self.leftchild = None\n",
    "node1 = BinaryTreeNode(50)\n",
    "node2 = BinaryTreeNode(20)\n",
    "node3 = BinaryTreeNode(5)\n",
    "node4 = BinaryTreeNode(40)\n",
    "node5 = BinaryTreeNode(58)\n",
    "node6 = BinaryTreeNode(60)\n",
    "\n",
    "node1.rightchild = node2 \n",
    "node2.leftchild = node3\n",
    "node2.rightchild = node4 \n",
    "node2.leftchild = node5\n",
    "node3.leftchild = node6\n",
    "\n",
    "print(\"Root Node: \")\n",
    "print(node1.data)\n",
    "print(\"******\")\n",
    "print(\"Root node left child is: \")\n",
    "print(node2.data)\n",
    "print(\"******\")\n",
    "print(\"Root node right child is: \")\n",
    "print(node3.data)\n",
    "print(\"******\")\n",
    "print(\"Root node left child's left is: \")\n",
    "print(node4.data)\n",
    "print(\"******\")\n",
    "print(\"Root node left child's right is: \")\n",
    "print(node5.data)\n",
    "print(\"******\")\n",
    "print(\"Root node right child's left is: \")\n",
    "print(node6.data)"
   ]
  },
  {
   "cell_type": "markdown",
   "id": "07f4dc95",
   "metadata": {},
   "source": [
    "# Binary Tree Traversal"
   ]
  },
  {
   "cell_type": "markdown",
   "id": "8cc732b4",
   "metadata": {},
   "source": [
    "types:\n",
    "    1.inorder  : left-root-right (root = data) ldr\n",
    "    2.preorder : root-left-right  dlr\n",
    "    3.postorder: left-right -root lrd"
   ]
  },
  {
   "cell_type": "code",
   "execution_count": 1,
   "id": "2aa5fd45",
   "metadata": {},
   "outputs": [
    {
     "name": "stdout",
     "output_type": "stream",
     "text": [
      "PRE-ORDER\n",
      "12453\n",
      "POST-ORDER\n",
      "45231\n",
      "IN-ORDER\n",
      "42513\n"
     ]
    }
   ],
   "source": [
    "class Node:\n",
    "    def __init__(self,key):\n",
    "        self.left=None\n",
    "        self.right=None\n",
    "        self.val=key\n",
    "def printInorder(root):\n",
    "    if root:\n",
    "        #first recur on left child\n",
    "        printInorder(root.left)\n",
    "        #then print data of node\n",
    "        print(root.val,end=\"\")\n",
    "        #now recur on right child\n",
    "        printInorder(root.right)\n",
    "def printPostorder(root):\n",
    "     if root:\n",
    "        #first recur on left child\n",
    "        printPostorder(root.left)\n",
    "        #now recur on right child\n",
    "        printPostorder(root.right)\n",
    "        #then print data of node\n",
    "        print(root.val,end=\"\")\n",
    "def printPreorder(root):\n",
    "    if root:\n",
    "        #then print data of node\n",
    "        print(root.val,end=\"\")\n",
    "        #first recur on left child\n",
    "        printPreorder(root.left)\n",
    "        #now recur on right child\n",
    "        printPreorder(root.right)\n",
    "root=Node(1)\n",
    "root.left=Node(2)\n",
    "root.right=Node(3)\n",
    "root.left.left=Node(4)\n",
    "root.left.right=Node(5)\n",
    "print(\"PRE-ORDER\")\n",
    "printPreorder(root)\n",
    "print()\n",
    "print(\"POST-ORDER\")\n",
    "printPostorder(root)\n",
    "print()\n",
    "print(\"IN-ORDER\")\n",
    "printInorder(root)\n",
    "print()"
   ]
  },
  {
   "cell_type": "code",
   "execution_count": 2,
   "id": "ea328637",
   "metadata": {},
   "outputs": [
    {
     "name": "stdout",
     "output_type": "stream",
     "text": [
      "20\n",
      "30\n",
      "40\n",
      "50\n",
      "60\n",
      "70\n",
      "80\n"
     ]
    }
   ],
   "source": [
    "class Node:\n",
    "    def __init__(self,key):\n",
    "        self.left=None\n",
    "        self.right=None\n",
    "        self.val=key\n",
    "# a new node with the given key\n",
    "def insert(root,key):\n",
    "    if root is None:\n",
    "        return Node(key)\n",
    "    else:\n",
    "        if root.val==key:\n",
    "            return root\n",
    "        elif root.val<key:\n",
    "            root.right=insert(root.right,key)\n",
    "        else:\n",
    "            root.left=insert(root.left,key)\n",
    "    return root\n",
    "#Inorder traversal\n",
    "def inorder(root):\n",
    "    if root:\n",
    "        inorder(root.left)\n",
    "        print(root.val)\n",
    "        inorder(root.right)\n",
    "r=Node(50)\n",
    "r=insert(r, 30)\n",
    "r=insert(r, 20)\n",
    "r=insert(r, 40)\n",
    "r=insert(r, 70)\n",
    "r=insert(r, 60)\n",
    "r=insert(r, 80)\n",
    "inorder(r)"
   ]
  },
  {
   "cell_type": "code",
   "execution_count": null,
   "id": "90125d2f",
   "metadata": {},
   "outputs": [],
   "source": []
  }
 ],
 "metadata": {
  "kernelspec": {
   "display_name": "Python 3 (ipykernel)",
   "language": "python",
   "name": "python3"
  },
  "language_info": {
   "codemirror_mode": {
    "name": "ipython",
    "version": 3
   },
   "file_extension": ".py",
   "mimetype": "text/x-python",
   "name": "python",
   "nbconvert_exporter": "python",
   "pygments_lexer": "ipython3",
   "version": "3.9.13"
  }
 },
 "nbformat": 4,
 "nbformat_minor": 5
}
